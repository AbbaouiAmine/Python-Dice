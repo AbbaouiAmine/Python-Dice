{
 "cells": [
  {
   "cell_type": "code",
   "execution_count": 1,
   "metadata": {},
   "outputs": [
    {
     "name": "stdout",
     "output_type": "stream",
     "text": [
      "GAME OVER !!!!\n"
     ]
    }
   ],
   "source": [
    "import time\n",
    "import threading\n",
    "import random as rd\n",
    "import winsound as ws\n",
    "from IPython.display import Image\n",
    "from IPython.display import display\n",
    "from IPython.display import clear_output\n",
    "\n",
    "#definition des fonctions \n",
    "def sound():\n",
    "    ws.PlaySound(\"2.wav\", ws.SND_FILENAME)\n",
    "def animation(r):\n",
    "    clear_output()\n",
    "    threading.Thread(target=sound).start()\n",
    "    for r1 in range(1,r+1) :\n",
    "        x1 = Image(filename=r'dice\\d'+str(r1)+'.png') \n",
    "        display(x1)\n",
    "        time.sleep(0.1)\n",
    "        clear_output()\n",
    "    \n",
    "def rand1() :\n",
    "    r=rd.randint(1,6); \n",
    "    animation(r)\n",
    "    #clear_output()\n",
    "    print(\"Tirage : \",r)\n",
    "    x = Image(filename=r'dice\\d'+str(r)+'.png') \n",
    "    display(x)\n",
    "def message() :\n",
    "    print(\"Entrer q pour quitter\")\n",
    "    print(\"Entrer pour continuer\")\n",
    "\n",
    "\n",
    "\n",
    "choix =\"a\"\n",
    "\n",
    "message()\n",
    "while True :\n",
    "    choix = input()\n",
    "    if choix == 'q' :\n",
    "        clear_output()\n",
    "        print(\"GAME OVER !!!!\")\n",
    "        break\n",
    "    rand1()\n",
    "    message()"
   ]
  },
  {
   "cell_type": "code",
   "execution_count": null,
   "metadata": {},
   "outputs": [],
   "source": []
  }
 ],
 "metadata": {
  "celltoolbar": "Tags",
  "kernelspec": {
   "display_name": "Python 3",
   "language": "python",
   "name": "python3"
  },
  "language_info": {
   "codemirror_mode": {
    "name": "ipython",
    "version": 3
   },
   "file_extension": ".py",
   "mimetype": "text/x-python",
   "name": "python",
   "nbconvert_exporter": "python",
   "pygments_lexer": "ipython3",
   "version": "3.7.2"
  }
 },
 "nbformat": 4,
 "nbformat_minor": 2
}
